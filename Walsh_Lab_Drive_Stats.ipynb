{
  "nbformat": 4,
  "nbformat_minor": 0,
  "metadata": {
    "colab": {
      "provenance": [],
      "authorship_tag": "ABX9TyNM8BaDpV198nmel2F7eBEG",
      "include_colab_link": true
    },
    "kernelspec": {
      "name": "python3",
      "display_name": "Python 3"
    },
    "language_info": {
      "name": "python"
    }
  },
  "cells": [
    {
      "cell_type": "markdown",
      "metadata": {
        "id": "view-in-github",
        "colab_type": "text"
      },
      "source": [
        "<a href=\"https://colab.research.google.com/github/mdm68/Miscellaneous-Code/blob/master/Walsh_Lab_Drive_Stats.ipynb\" target=\"_parent\"><img src=\"https://colab.research.google.com/assets/colab-badge.svg\" alt=\"Open In Colab\"/></a>"
      ]
    },
    {
      "cell_type": "code",
      "execution_count": 7,
      "metadata": {
        "id": "nyw4vjCYKahm",
        "colab": {
          "base_uri": "https://localhost:8080/"
        },
        "outputId": "fde89703-6731-4502-f11b-056be6d3d7f3"
      },
      "outputs": [
        {
          "output_type": "stream",
          "name": "stdout",
          "text": [
            "Drive already mounted at /content/drive; to attempt to forcibly remount, call drive.mount(\"/content/drive\", force_remount=True).\n",
            "Total file count: 0\n"
          ]
        }
      ],
      "source": [
        "#Check file counts\n",
        "from google.colab import drive\n",
        "import os\n",
        "\n",
        "drive.mount('/content/drive')\n",
        "\n",
        "directory = '/content/drive/Shareddrives/Walsh_lab_data_archive/EduardoMaury/wgc_hc'\n",
        "# Count files recursively\n",
        "file_count = sum(len(files) for _, _, files in os.walk(directory))\n",
        "\n",
        "print(f\"Total file count: {file_count}\")"
      ]
    },
    {
      "cell_type": "code",
      "source": [
        "#Check sizes of folders\n",
        "import subprocess\n",
        "\n",
        "directory = \"/content/drive/Shareddrives/Walsh_lab_data_archive/EduardoMaury/rna_mh_results\"\n",
        "\n",
        "# Count total files\n",
        "file_count = int(subprocess.getoutput(f'find \"{directory}\" -type f | wc -l'))\n",
        "\n",
        "# Get total folder size\n",
        "folder_size = subprocess.getoutput(f'du -sh \"{directory}\" | cut -f1')\n",
        "\n",
        "print(f\"Total file count: {file_count}\")\n",
        "print(f\"Total folder size: {folder_size}\")\n",
        "\n"
      ],
      "metadata": {
        "colab": {
          "base_uri": "https://localhost:8080/"
        },
        "id": "-lsQttOM_ZQD",
        "outputId": "c61c2904-6953-4eab-9de9-553c5be65ef4"
      },
      "execution_count": 14,
      "outputs": [
        {
          "output_type": "stream",
          "name": "stdout",
          "text": [
            "Total file count: 6738\n",
            "Total folder size: 1.7T\n"
          ]
        }
      ]
    }
  ]
}