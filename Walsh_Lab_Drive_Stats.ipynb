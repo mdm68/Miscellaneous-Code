{
  "nbformat": 4,
  "nbformat_minor": 0,
  "metadata": {
    "colab": {
      "provenance": [],
      "authorship_tag": "ABX9TyPWSrzV7qoPjb2K7NAJO8RM",
      "include_colab_link": true
    },
    "kernelspec": {
      "name": "python3",
      "display_name": "Python 3"
    },
    "language_info": {
      "name": "python"
    }
  },
  "cells": [
    {
      "cell_type": "markdown",
      "metadata": {
        "id": "view-in-github",
        "colab_type": "text"
      },
      "source": [
        "<a href=\"https://colab.research.google.com/github/mdm68/Miscellaneous-Code/blob/master/Walsh_Lab_Drive_Stats.ipynb\" target=\"_parent\"><img src=\"https://colab.research.google.com/assets/colab-badge.svg\" alt=\"Open In Colab\"/></a>"
      ]
    },
    {
      "cell_type": "code",
      "execution_count": 3,
      "metadata": {
        "id": "nyw4vjCYKahm",
        "colab": {
          "base_uri": "https://localhost:8080/"
        },
        "outputId": "db419ecc-6b6d-4aa8-9eba-3b72c7396e77"
      },
      "outputs": [
        {
          "output_type": "stream",
          "name": "stdout",
          "text": [
            "Drive already mounted at /content/drive; to attempt to forcibly remount, call drive.mount(\"/content/drive\", force_remount=True).\n",
            "find: ‘/content/drive/Shareddrives/Walsh_lab_data_archive/Walsh_lab_data_archive’: No such file or directory\n",
            "48238\n"
          ]
        }
      ],
      "source": [
        "#Check file counts\n",
        "from google.colab import drive\n",
        "import os\n",
        "\n",
        "drive.mount('/content/drive')\n",
        "\n",
        "directory = '/content/drive/Shareddrives/Walsh_lab_data_archive'\n",
        "\n",
        "# Count files recursively -- SLOW !!!\n",
        "#folder_count = sum(len(dirs) for _, dirs, _ in os.walk(directory))\n",
        "#print(f\"Total file count: {file_count}\")\n",
        "#print(f\"Total folder count: {folder_count}\")\n",
        "#print(f\"Total items (files + folders): {file_count + folder_count}\")\n",
        "\n",
        "# Faster? YES !!!\n",
        "!find \"/content/drive/Shareddrives/Walsh_lab_data_archive\" | wc -l\n",
        "\n"
      ]
    },
    {
      "cell_type": "code",
      "source": [
        "#Check sizes of folders\n",
        "import subprocess\n",
        "\n",
        "directory = \"/content/drive/Shareddrives/Walsh_lab_data_archive\"\n",
        "\n",
        "# Count only files\n",
        "!find \"/content/drive/Shareddrives/Walsh_lab_data_archive\" -type f | wc -l\n",
        "\n",
        "# Count only folders\n",
        "!find \"/content/drive/Shareddrives/Walsh_lab_data_archive\" -type d | wc -l\n",
        "\n",
        "\n"
      ],
      "metadata": {
        "colab": {
          "base_uri": "https://localhost:8080/"
        },
        "id": "-lsQttOM_ZQD",
        "outputId": "0d0efac4-3ca8-4687-b1b1-e88b0f62fe12"
      },
      "execution_count": 4,
      "outputs": [
        {
          "output_type": "stream",
          "name": "stdout",
          "text": [
            "38990\n",
            "9247\n"
          ]
        }
      ]
    }
  ]
}